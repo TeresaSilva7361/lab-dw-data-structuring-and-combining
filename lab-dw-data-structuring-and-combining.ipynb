{
 "cells": [
  {
   "cell_type": "markdown",
   "id": "25d7736c-ba17-4aff-b6bb-66eba20fbf4e",
   "metadata": {
    "id": "25d7736c-ba17-4aff-b6bb-66eba20fbf4e"
   },
   "source": [
    "# Lab | Data Structuring and Combining Data"
   ]
  },
  {
   "cell_type": "markdown",
   "id": "a2cdfc70-44c8-478c-81e7-2bc43fdf4986",
   "metadata": {
    "id": "a2cdfc70-44c8-478c-81e7-2bc43fdf4986"
   },
   "source": [
    "## Challenge 1: Combining & Cleaning Data\n",
    "\n",
    "In this challenge, we will be working with the customer data from an insurance company, as we did in the two previous labs. The data can be found here:\n",
    "- https://raw.githubusercontent.com/data-bootcamp-v4/data/main/file1.csv\n",
    "\n",
    "But this time, we got new data, which can be found in the following 2 CSV files located at the links below.\n",
    "\n",
    "- https://raw.githubusercontent.com/data-bootcamp-v4/data/main/file2.csv\n",
    "- https://raw.githubusercontent.com/data-bootcamp-v4/data/main/file3.csv\n",
    "\n",
    "Note that you'll need to clean and format the new data.\n",
    "\n",
    "Observation:\n",
    "- One option is to first combine the three datasets and then apply the cleaning function to the new combined dataset\n",
    "- Another option would be to read the clean file you saved in the previous lab, and just clean the two new files and concatenate the three clean datasets"
   ]
  },
  {
   "cell_type": "code",
   "execution_count": 2,
   "id": "492d06e3-92c7-4105-ac72-536db98d3244",
   "metadata": {
    "id": "492d06e3-92c7-4105-ac72-536db98d3244"
   },
   "outputs": [],
   "source": [
    "import pandas as pd\n",
    "import numpy as np"
   ]
  },
  {
   "cell_type": "code",
   "execution_count": 3,
   "id": "e0d6249d-6897-45dc-b3dc-b2e35a5a4ea0",
   "metadata": {},
   "outputs": [],
   "source": [
    "def convert_data_types(df):\n",
    "    categorical_cols = ['state', 'gender', 'education', 'policy_type', 'vehicle_class']\n",
    "    for col in categorical_cols:\n",
    "        if col in df.columns:\n",
    "            df[col] = df[col].astype('category')\n",
    "    if 'customer_lifetime_value' in df.columns:\n",
    "        df['customer_lifetime_value'] = pd.to_numeric(df['customer_lifetime_value'], errors='coerce')\n",
    "    return df  \n",
    "\n",
    "def clean_open_complaints(df):\n",
    "    def extract_middle(value):\n",
    "        if isinstance(value, str) and '/' in value:\n",
    "            parts = value.split('/')\n",
    "            if len(parts) == 3 and parts[1].isdigit():\n",
    "                return int(parts[1])\n",
    "        try:\n",
    "            return int(value)\n",
    "        except:\n",
    "            return np.nan\n",
    "    if 'number_of_open_complaints' in df.columns:\n",
    "        df['number_of_open_complaints'] = df['number_of_open_complaints'].apply(extract_middle)\n",
    "    return df\n",
    "\n",
    "def handle_nulls(df):\n",
    "    for col in df.select_dtypes(include=['float64', 'int64']).columns:\n",
    "        if df[col].isnull().all():\n",
    "            continue  # skip columns with all NaNs\n",
    "        median = df[col].median()\n",
    "        df[col] = df[col].fillna(median)\n",
    "\n",
    "    for col in df.select_dtypes(include=['category', 'object']).columns:\n",
    "        if df[col].isnull().all():\n",
    "            continue  # skip columns with all NaNs\n",
    "        mode = df[col].mode()[0]\n",
    "        df[col] = df[col].fillna(mode)\n",
    "\n",
    "    return df\n",
    "\n",
    "def convert_numeric_to_int(df):\n",
    "    for col in df.select_dtypes(include=['float64', 'int64']).columns:\n",
    "        if df[col].isnull().sum() == 0:  # ensure no NaNs\n",
    "            df[col] = df[col].astype(int)\n",
    "    return df\n",
    "\n",
    "def remove_duplicates(df):\n",
    "    return df.drop_duplicates().reset_index(drop=True)\n",
    "\n",
    "def clean_dataset_from_url(url, save_path):\n",
    "    df = pd.read_csv(url)\n",
    "    df.columns = df.columns.str.lower().str.strip().str.replace(' ', '_')  # Normalize column names\n",
    "    df = convert_data_types(df)\n",
    "    df = clean_open_complaints(df)\n",
    "    df = handle_nulls(df)\n",
    "    df = convert_numeric_to_int(df)\n",
    "    df = remove_duplicates(df)\n",
    "    df.to_csv(save_path, index=False)\n",
    "    return df"
   ]
  },
  {
   "cell_type": "code",
   "execution_count": 4,
   "id": "9ab6171f-af7b-47b8-8c39-8d556e487e55",
   "metadata": {},
   "outputs": [],
   "source": [
    "url_file2 = 'https://raw.githubusercontent.com/data-bootcamp-v4/data/main/file2.csv'\n",
    "url_file3 = 'https://raw.githubusercontent.com/data-bootcamp-v4/data/main/file3.csv'\n",
    "\n",
    "cleaned_file2 = clean_dataset_from_url(url_file2, 'cleaned_file2.csv')\n",
    "cleaned_file3 = clean_dataset_from_url(url_file3, 'cleaned_file3.csv')"
   ]
  },
  {
   "cell_type": "code",
   "execution_count": 6,
   "id": "a2bc9c32-5de8-4973-9b6f-4f6ebafee91e",
   "metadata": {},
   "outputs": [
    {
     "name": "stdout",
     "output_type": "stream",
     "text": [
      "Merged dataset shape: (9138, 12)\n"
     ]
    }
   ],
   "source": [
    "df1 = pd.read_csv('cleaned_lab_data.csv')\n",
    "df2 = pd.read_csv('cleaned_file2.csv')\n",
    "df3 = pd.read_csv('cleaned_file3.csv')\n",
    "\n",
    "merged_df = pd.concat([df1, df2, df3], ignore_index=True)\n",
    "print(f\"Merged dataset shape: {merged_df.shape}\")"
   ]
  },
  {
   "cell_type": "code",
   "execution_count": 7,
   "id": "5ec8b882-ce70-4675-a552-e2f7410942ee",
   "metadata": {},
   "outputs": [
    {
     "name": "stdout",
     "output_type": "stream",
     "text": [
      "Index(['customer', 'state', 'gender', 'education', 'customer_lifetime_value',\n",
      "       'income', 'monthly_premium_auto', 'number_of_open_complaints',\n",
      "       'policy_type', 'vehicle_class', 'total_claim_amount', 'st'],\n",
      "      dtype='object')\n"
     ]
    }
   ],
   "source": [
    "print(merged_df.columns)"
   ]
  },
  {
   "cell_type": "code",
   "execution_count": 8,
   "id": "86ef5631-1951-4db5-9d77-5e3f046a40e2",
   "metadata": {},
   "outputs": [],
   "source": [
    "merged_df.rename(columns={\n",
    "    'Total Claim Amount': 'total_claim_amount',\n",
    "    'Customer Lifetime Value': 'customer_lifetime_value'\n",
    "}, inplace=True)"
   ]
  },
  {
   "cell_type": "code",
   "execution_count": 9,
   "id": "1ee8de3d-44cb-4b9f-863d-ac8877765274",
   "metadata": {},
   "outputs": [],
   "source": [
    "filtered_df = merged_df.dropna(subset=['total_claim_amount', 'customer_lifetime_value'])"
   ]
  },
  {
   "cell_type": "code",
   "execution_count": 10,
   "id": "731a71a0-bf3f-4d35-9f9a-0f56de95b525",
   "metadata": {},
   "outputs": [],
   "source": [
    "claim_75th = filtered_df['total_claim_amount'].quantile(0.75)\n",
    "lifetime_25th = filtered_df['customer_lifetime_value'].quantile(0.25)"
   ]
  },
  {
   "cell_type": "code",
   "execution_count": 11,
   "id": "3ca25920-c065-473e-af4a-0da7f6bdc2dd",
   "metadata": {},
   "outputs": [],
   "source": [
    "target_customers = filtered_df[\n",
    "    (filtered_df['total_claim_amount'] > claim_75th) &\n",
    "    (filtered_df['customer_lifetime_value'] < lifetime_25th)\n",
    "]"
   ]
  },
  {
   "cell_type": "code",
   "execution_count": 12,
   "id": "c2452159-3d03-4ff5-bc4a-cac631838e0c",
   "metadata": {},
   "outputs": [
    {
     "name": "stdout",
     "output_type": "stream",
     "text": [
      "       total_claim_amount  customer_lifetime_value\n",
      "count          318.000000               318.000000\n",
      "mean           736.616352              3502.503145\n",
      "std            168.852550               618.688043\n",
      "min            549.000000              1898.000000\n",
      "25%            612.000000              3117.000000\n",
      "50%            694.000000              3609.500000\n",
      "75%            804.750000              3983.750000\n",
      "max           1397.000000              4364.000000\n"
     ]
    }
   ],
   "source": [
    "summary = target_customers[['total_claim_amount', 'customer_lifetime_value']].describe()\n",
    "print(summary)"
   ]
  },
  {
   "cell_type": "code",
   "execution_count": 13,
   "id": "d42a7f21-cbdc-4549-a847-bf84027e891b",
   "metadata": {},
   "outputs": [
    {
     "name": "stdout",
     "output_type": "stream",
     "text": [
      "Top 10 States with High Claim + Low CLV Customers:\n",
      "state\n",
      "California    105\n",
      "Oregon         95\n",
      "Arizona        55\n",
      "Nevada         32\n",
      "Washington     31\n",
      "Name: count, dtype: int64\n"
     ]
    }
   ],
   "source": [
    "state_counts = target_customers['state'].value_counts().head(10)\n",
    "print(\"Top 10 States with High Claim + Low CLV Customers:\")\n",
    "print(state_counts)"
   ]
  },
  {
   "cell_type": "code",
   "execution_count": 14,
   "id": "690e670c-d10c-46b6-a3c3-47891189bab7",
   "metadata": {},
   "outputs": [
    {
     "name": "stdout",
     "output_type": "stream",
     "text": [
      "\n",
      "Customer Types with High Claim + Low CLV:\n",
      "customer\n",
      "BB10681    1\n",
      "AL78075    1\n",
      "LZ89773    1\n",
      "EY89842    1\n",
      "JS38272    1\n",
      "          ..\n",
      "TM28833    1\n",
      "DQ15807    1\n",
      "PK51938    1\n",
      "FA82777    1\n",
      "ZI48518    1\n",
      "Name: count, Length: 318, dtype: int64\n"
     ]
    }
   ],
   "source": [
    "customer_type_counts = target_customers['customer'].value_counts()\n",
    "print(\"\\nCustomer Types with High Claim + Low CLV:\")\n",
    "print(customer_type_counts)"
   ]
  },
  {
   "cell_type": "code",
   "execution_count": 15,
   "id": "11117eb8-9275-4cf5-a0a5-6dc5b644c6a6",
   "metadata": {},
   "outputs": [
    {
     "name": "stdout",
     "output_type": "stream",
     "text": [
      "\n",
      "Average Total Claim Amount and CLV by State:\n",
      "            total_claim_amount  customer_lifetime_value\n",
      "state                                                  \n",
      "Nevada              761.468750              3731.781250\n",
      "Washington          743.225806              3506.580645\n",
      "California          741.933333              3481.600000\n",
      "Oregon              730.473684              3504.863158\n",
      "Arizona             718.890909              3402.636364\n"
     ]
    }
   ],
   "source": [
    "by_state = target_customers.groupby('state')[['total_claim_amount', 'customer_lifetime_value']].mean().sort_values(by='total_claim_amount', ascending=False)\n",
    "print(\"\\nAverage Total Claim Amount and CLV by State:\")\n",
    "print(by_state.head(10))"
   ]
  },
  {
   "cell_type": "code",
   "execution_count": 17,
   "id": "c956210e-730f-4a24-a85d-bfc35478ee5b",
   "metadata": {},
   "outputs": [
    {
     "data": {
      "image/png": "[encoded data removed]",
      "text/plain": [
       "<Figure size 1000x600 with 1 Axes>"
      ]
     },
     "metadata": {},
     "output_type": "display_data"
    }
   ],
   "source": [
    "import matplotlib.pyplot as plt\n",
    "import seaborn as sns\n",
    "\n",
    "plt.figure(figsize=(10,6))\n",
    "sns.scatterplot(data=target_customers, x='customer_lifetime_value', y='total_claim_amount', hue='state')\n",
    "plt.title('High Claim & Low CLV Customers')\n",
    "plt.xlabel('Customer Lifetime Value')\n",
    "plt.ylabel('Total Claim Amount')\n",
    "plt.grid(True)\n",
    "plt.tight_layout()\n",
    "plt.show()"
   ]
  },
  {
   "cell_type": "markdown",
   "id": "31b8a9e7-7db9-4604-991b-ef6771603e57",
   "metadata": {
    "id": "31b8a9e7-7db9-4604-991b-ef6771603e57"
   },
   "source": [
    "# Challenge 2: Structuring Data"
   ]
  },
  {
   "cell_type": "markdown",
   "id": "a877fd6d-7a0c-46d2-9657-f25036e4ca4b",
   "metadata": {
    "id": "a877fd6d-7a0c-46d2-9657-f25036e4ca4b"
   },
   "source": [
    "In this challenge, we will continue to work with customer data from an insurance company, but we will use a dataset with more columns, called marketing_customer_analysis.csv, which can be found at the following link:\n",
    "\n",
    "https://raw.githubusercontent.com/data-bootcamp-v4/data/main/marketing_customer_analysis_clean.csv\n",
    "\n",
    "This dataset contains information such as customer demographics, policy details, vehicle information, and the customer's response to the last marketing campaign. Our goal is to explore and analyze this data by performing data cleaning, formatting, and structuring."
   ]
  },
  {
   "cell_type": "code",
   "execution_count": 18,
   "id": "aa10d9b0-1c27-4d3f-a8e4-db6ab73bfd26",
   "metadata": {
    "id": "aa10d9b0-1c27-4d3f-a8e4-db6ab73bfd26"
   },
   "outputs": [
    {
     "name": "stdout",
     "output_type": "stream",
     "text": [
      "Missing values per column:\n",
      " unnamed:_0                       0\n",
      "customer                         0\n",
      "state                            0\n",
      "customer_lifetime_value          0\n",
      "response                         0\n",
      "coverage                         0\n",
      "education                        0\n",
      "effective_to_date                0\n",
      "employmentstatus                 0\n",
      "gender                           0\n",
      "income                           0\n",
      "location_code                    0\n",
      "marital_status                   0\n",
      "monthly_premium_auto             0\n",
      "months_since_last_claim          0\n",
      "months_since_policy_inception    0\n",
      "number_of_open_complaints        0\n",
      "number_of_policies               0\n",
      "policy_type                      0\n",
      "policy                           0\n",
      "renew_offer_type                 0\n",
      "sales_channel                    0\n",
      "total_claim_amount               0\n",
      "vehicle_class                    0\n",
      "vehicle_size                     0\n",
      "vehicle_type                     0\n",
      "month                            0\n",
      "dtype: int64\n",
      "\n",
      "Data types:\n",
      " unnamed:_0                         int64\n",
      "customer                          object\n",
      "state                             object\n",
      "customer_lifetime_value          float64\n",
      "response                          object\n",
      "coverage                          object\n",
      "education                         object\n",
      "effective_to_date                 object\n",
      "employmentstatus                  object\n",
      "gender                            object\n",
      "income                             int64\n",
      "location_code                     object\n",
      "marital_status                    object\n",
      "monthly_premium_auto               int64\n",
      "months_since_last_claim          float64\n",
      "months_since_policy_inception      int64\n",
      "number_of_open_complaints        float64\n",
      "number_of_policies                 int64\n",
      "policy_type                       object\n",
      "policy                            object\n",
      "renew_offer_type                  object\n",
      "sales_channel                     object\n",
      "total_claim_amount               float64\n",
      "vehicle_class                     object\n",
      "vehicle_size                      object\n",
      "vehicle_type                      object\n",
      "month                              int64\n",
      "dtype: object\n",
      "\n",
      "Summary statistics:\n",
      "             income  customer_lifetime_value  monthly_premium_auto  \\\n",
      "count  10910.000000             10910.000000          10910.000000   \n",
      "mean   37536.284785              8018.241094             93.196059   \n",
      "std    30359.195670              6885.081434             34.442532   \n",
      "min        0.000000              1898.007675             61.000000   \n",
      "25%        0.000000              4014.453113             68.000000   \n",
      "50%    33813.500000              5771.147235             83.000000   \n",
      "75%    62250.750000              8992.779137            109.000000   \n",
      "max    99981.000000             83325.381190            298.000000   \n",
      "\n",
      "       total_claim_amount  \n",
      "count        10910.000000  \n",
      "mean           434.888330  \n",
      "std            292.180556  \n",
      "min              0.099007  \n",
      "25%            271.082527  \n",
      "50%            382.564630  \n",
      "75%            547.200000  \n",
      "max           2893.239678  \n",
      "\n",
      "Value counts for customer:\n",
      "customer\n",
      "ID89933    7\n",
      "AM79057    5\n",
      "FP86246    5\n",
      "DQ50258    5\n",
      "GF70857    4\n",
      "          ..\n",
      "NL59519    1\n",
      "XW90265    1\n",
      "NP33989    1\n",
      "XM87301    1\n",
      "KR82385    1\n",
      "Name: count, Length: 9134, dtype: int64\n",
      "\n",
      "Value counts for state:\n",
      "state\n",
      "California    4183\n",
      "Oregon        2909\n",
      "Arizona       1937\n",
      "Nevada         993\n",
      "Washington     888\n",
      "Name: count, dtype: int64\n",
      "\n",
      "Value counts for response:\n",
      "response\n",
      "No     9444\n",
      "Yes    1466\n",
      "Name: count, dtype: int64\n",
      "\n",
      "Value counts for coverage:\n",
      "coverage\n",
      "Basic       6660\n",
      "Extended    3265\n",
      "Premium      985\n",
      "Name: count, dtype: int64\n",
      "\n",
      "Value counts for education:\n",
      "education\n",
      "Bachelor                3272\n",
      "College                 3204\n",
      "High School or Below    3146\n",
      "Master                   887\n",
      "Doctor                   401\n",
      "Name: count, dtype: int64\n",
      "\n",
      "Value counts for effective_to_date:\n",
      "effective_to_date\n",
      "2011-01-27    239\n",
      "2011-01-10    239\n",
      "2011-01-31    224\n",
      "2011-02-14    221\n",
      "2011-01-17    221\n",
      "2011-01-26    220\n",
      "2011-01-03    216\n",
      "2011-01-19    212\n",
      "2011-02-27    205\n",
      "2011-01-28    203\n",
      "2011-02-26    202\n",
      "2011-01-20    201\n",
      "2011-01-21    199\n",
      "2011-02-04    198\n",
      "2011-02-07    197\n",
      "2011-02-19    196\n",
      "2011-01-11    195\n",
      "2011-02-03    195\n",
      "2011-01-05    193\n",
      "2011-02-28    192\n",
      "2011-01-02    191\n",
      "2011-02-22    191\n",
      "2011-02-18    186\n",
      "2011-02-10    186\n",
      "2011-01-23    184\n",
      "2011-02-11    184\n",
      "2011-01-18    183\n",
      "2011-02-25    183\n",
      "2011-02-12    183\n",
      "2011-01-29    182\n",
      "2011-01-09    182\n",
      "2011-01-08    182\n",
      "2011-02-05    181\n",
      "2011-02-02    181\n",
      "2011-02-01    181\n",
      "2011-02-09    180\n",
      "2011-01-14    180\n",
      "2011-01-24    179\n",
      "2011-01-07    178\n",
      "2011-02-21    178\n",
      "2011-02-23    176\n",
      "2011-01-30    173\n",
      "2011-01-15    172\n",
      "2011-01-16    172\n",
      "2011-01-13    171\n",
      "2011-02-06    171\n",
      "2011-01-01    171\n",
      "2011-01-25    168\n",
      "2011-02-13    168\n",
      "2011-02-16    167\n",
      "2011-02-24    162\n",
      "2011-02-17    162\n",
      "2011-01-06    161\n",
      "2011-02-20    156\n",
      "2011-02-15    155\n",
      "2011-02-08    155\n",
      "2011-01-12    148\n",
      "2011-01-22    148\n",
      "2011-01-04    131\n",
      "Name: count, dtype: int64\n",
      "\n",
      "Value counts for employmentstatus:\n",
      "employmentstatus\n",
      "Employed         6789\n",
      "Unemployed       2787\n",
      "Medical Leave     504\n",
      "Disabled          499\n",
      "Retired           331\n",
      "Name: count, dtype: int64\n",
      "\n",
      "Value counts for gender:\n",
      "gender\n",
      "F    5573\n",
      "M    5337\n",
      "Name: count, dtype: int64\n",
      "\n",
      "Value counts for location_code:\n",
      "location_code\n",
      "Suburban    6902\n",
      "Rural       2116\n",
      "Urban       1892\n",
      "Name: count, dtype: int64\n",
      "\n",
      "Value counts for marital_status:\n",
      "marital_status\n",
      "Married     6319\n",
      "Single      2958\n",
      "Divorced    1633\n",
      "Name: count, dtype: int64\n",
      "\n",
      "Value counts for policy_type:\n",
      "policy_type\n",
      "Personal Auto     8128\n",
      "Corporate Auto    2341\n",
      "Special Auto       441\n",
      "Name: count, dtype: int64\n",
      "\n",
      "Value counts for policy:\n",
      "policy\n",
      "Personal L3     4118\n",
      "Personal L2     2537\n",
      "Personal L1     1473\n",
      "Corporate L3    1221\n",
      "Corporate L2     688\n",
      "Corporate L1     432\n",
      "Special L2       193\n",
      "Special L3       170\n",
      "Special L1        78\n",
      "Name: count, dtype: int64\n",
      "\n",
      "Value counts for renew_offer_type:\n",
      "renew_offer_type\n",
      "Offer1    4483\n",
      "Offer2    3490\n",
      "Offer3    1732\n",
      "Offer4    1205\n",
      "Name: count, dtype: int64\n",
      "\n",
      "Value counts for sales_channel:\n",
      "sales_channel\n",
      "Agent          4121\n",
      "Branch         3022\n",
      "Call Center    2141\n",
      "Web            1626\n",
      "Name: count, dtype: int64\n",
      "\n",
      "Value counts for vehicle_class:\n",
      "vehicle_class\n",
      "Four-Door Car    5834\n",
      "Two-Door Car     2118\n",
      "SUV              2012\n",
      "Sports Car        550\n",
      "Luxury SUV        208\n",
      "Luxury Car        188\n",
      "Name: count, dtype: int64\n",
      "\n",
      "Value counts for vehicle_size:\n",
      "vehicle_size\n",
      "Medsize    7873\n",
      "Small      1966\n",
      "Large      1071\n",
      "Name: count, dtype: int64\n",
      "\n",
      "Value counts for vehicle_type:\n",
      "vehicle_type\n",
      "A    10910\n",
      "Name: count, dtype: int64\n",
      "\n",
      "Correlation matrix:\n",
      "                           income  customer_lifetime_value  \\\n",
      "income                   1.000000                 0.028306   \n",
      "customer_lifetime_value  0.028306                 1.000000   \n",
      "monthly_premium_auto    -0.009788                 0.403069   \n",
      "total_claim_amount      -0.354141                 0.232626   \n",
      "\n",
      "                         monthly_premium_auto  total_claim_amount  \n",
      "income                              -0.009788           -0.354141  \n",
      "customer_lifetime_value              0.403069            0.232626  \n",
      "monthly_premium_auto                 1.000000            0.631799  \n",
      "total_claim_amount                   0.631799            1.000000  \n"
     ]
    }
   ],
   "source": [
    "url = \"https://raw.githubusercontent.com/data-bootcamp-v4/data/main/marketing_customer_analysis_clean.csv\"\n",
    "df = pd.read_csv(url)\n",
    "\n",
    "df.columns = [col.strip().lower().replace(' ', '_') for col in df.columns]\n",
    "\n",
    "print(\"Missing values per column:\\n\", df.isnull().sum())\n",
    "print(\"\\nData types:\\n\", df.dtypes)\n",
    "\n",
    "numeric_cols = ['income', 'customer_lifetime_value', 'monthly_premium_auto', 'total_claim_amount']\n",
    "for col in numeric_cols:\n",
    "    df[col] = pd.to_numeric(df[col], errors='coerce')\n",
    "\n",
    "df = df.dropna()\n",
    "\n",
    "# Step 6: Basic summary\n",
    "print(\"\\nSummary statistics:\")\n",
    "print(df[numeric_cols].describe())\n",
    "\n",
    "categorical_cols = df.select_dtypes(include='object').columns\n",
    "for col in categorical_cols:\n",
    "    print(f\"\\nValue counts for {col}:\")\n",
    "    print(df[col].value_counts())\n",
    "\n",
    "print(\"\\nCorrelation matrix:\")\n",
    "print(df[numeric_cols].corr())\n",
    "\n",
    "df.to_csv(\"marketing_customer_cleaned.csv\", index=False)"
   ]
  },
  {
   "cell_type": "markdown",
   "id": "df35fd0d-513e-4e77-867e-429da10a9cc7",
   "metadata": {
    "id": "df35fd0d-513e-4e77-867e-429da10a9cc7"
   },
   "source": [
    "1. You work at the marketing department and you want to know which sales channel brought the most sales in terms of total revenue. Using pivot, create a summary table showing the total revenue for each sales channel (branch, call center, web, and mail).\n",
    "Round the total revenue to 2 decimal points.  Analyze the resulting table to draw insights."
   ]
  },
  {
   "cell_type": "markdown",
   "id": "640993b2-a291-436c-a34d-a551144f8196",
   "metadata": {
    "id": "640993b2-a291-436c-a34d-a551144f8196"
   },
   "source": [
    "2. Create a pivot table that shows the average customer lifetime value per gender and education level. Analyze the resulting table to draw insights."
   ]
  },
  {
   "cell_type": "code",
   "execution_count": 19,
   "id": "46aeeb13-4f18-41bb-a2dc-50cb6db0733b",
   "metadata": {},
   "outputs": [
    {
     "name": "stdout",
     "output_type": "stream",
     "text": [
      "Total Revenue by Sales Channel:\n",
      "               total_claim_amount\n",
      "sales_channel                    \n",
      "Agent                  1810226.82\n",
      "Branch                 1301204.00\n",
      "Call Center             926600.82\n",
      "Web                     706600.04\n"
     ]
    }
   ],
   "source": [
    "url = \"https://raw.githubusercontent.com/data-bootcamp-v4/data/main/marketing_customer_analysis_clean.csv\"\n",
    "df = pd.read_csv(url)\n",
    "\n",
    "# Clean column names\n",
    "df.columns = [col.strip().lower().replace(' ', '_') for col in df.columns]\n",
    "\n",
    "# Convert revenue column to numeric\n",
    "df['total_claim_amount'] = pd.to_numeric(df['total_claim_amount'], errors='coerce')\n",
    "\n",
    "# Pivot table for total revenue by sales channel\n",
    "revenue_by_channel = pd.pivot_table(\n",
    "    df,\n",
    "    values='total_claim_amount',\n",
    "    index='sales_channel',\n",
    "    aggfunc='sum'\n",
    ").round(2)\n",
    "\n",
    "print(\"Total Revenue by Sales Channel:\")\n",
    "print(revenue_by_channel)"
   ]
  },
  {
   "cell_type": "code",
   "execution_count": 20,
   "id": "6500e7a7-8d2f-489c-a0c8-1f08e5644f2d",
   "metadata": {},
   "outputs": [
    {
     "name": "stdout",
     "output_type": "stream",
     "text": [
      "\n",
      "Average Customer Lifetime Value by Gender and Education:\n",
      "education  Bachelor  College   Doctor  High School or Below   Master\n",
      "gender                                                              \n",
      "F           7874.27  7748.82  7328.51               8675.22  8157.05\n",
      "M           7703.60  8052.46  7415.33               8149.69  8168.83\n"
     ]
    }
   ],
   "source": [
    "df['customer_lifetime_value'] = pd.to_numeric(df['customer_lifetime_value'], errors='coerce')\n",
    "\n",
    "# Pivot table for average CLV by gender and education\n",
    "clv_by_gender_education = pd.pivot_table(\n",
    "    df,\n",
    "    values='customer_lifetime_value',\n",
    "    index='gender',\n",
    "    columns='education',\n",
    "    aggfunc='mean'\n",
    ").round(2)\n",
    "\n",
    "print(\"\\nAverage Customer Lifetime Value by Gender and Education:\")\n",
    "print(clv_by_gender_education)"
   ]
  },
  {
   "cell_type": "markdown",
   "id": "32c7f2e5-3d90-43e5-be33-9781b6069198",
   "metadata": {
    "id": "32c7f2e5-3d90-43e5-be33-9781b6069198"
   },
   "source": [
    "## Bonus\n",
    "\n",
    "You work at the customer service department and you want to know which months had the highest number of complaints by policy type category. Create a summary table showing the number of complaints by policy type and month.\n",
    "Show it in a long format table."
   ]
  },
  {
   "cell_type": "markdown",
   "id": "e3d09a8f-953c-448a-a5f8-2e5a8cca7291",
   "metadata": {
    "id": "e3d09a8f-953c-448a-a5f8-2e5a8cca7291"
   },
   "source": [
    "*In data analysis, a long format table is a way of structuring data in which each observation or measurement is stored in a separate row of the table. The key characteristic of a long format table is that each column represents a single variable, and each row represents a single observation of that variable.*\n",
    "\n",
    "*More information about long and wide format tables here: https://www.statology.org/long-vs-wide-data/*"
   ]
  },
  {
   "cell_type": "code",
   "execution_count": 21,
   "id": "3a069e0b-b400-470e-904d-d17582191be4",
   "metadata": {
    "id": "3a069e0b-b400-470e-904d-d17582191be4"
   },
   "outputs": [
    {
     "name": "stdout",
     "output_type": "stream",
     "text": [
      "Long Format Table: Complaints by Policy Type and Month\n",
      "      policy_type     month  complaint_count\n",
      "0  Corporate Auto  February              205\n",
      "1  Corporate Auto   January              240\n",
      "2   Personal Auto  February              729\n",
      "3   Personal Auto   January              861\n",
      "4    Special Auto  February               39\n",
      "5    Special Auto   January               43\n"
     ]
    }
   ],
   "source": [
    "url = \"https://raw.githubusercontent.com/data-bootcamp-v4/data/main/marketing_customer_analysis_clean.csv\"\n",
    "df = pd.read_csv(url)\n",
    "\n",
    "# Standardize column names\n",
    "df.columns = [col.strip().lower().replace(' ', '_') for col in df.columns]\n",
    "\n",
    "# Convert 'effective_to_date' to datetime\n",
    "df['effective_to_date'] = pd.to_datetime(df['effective_to_date'], errors='coerce')\n",
    "\n",
    "# Extract month name from the date\n",
    "df['month'] = df['effective_to_date'].dt.month_name()\n",
    "\n",
    "# Ensure 'number_of_open_complaints' is numeric\n",
    "df['number_of_open_complaints'] = pd.to_numeric(df['number_of_open_complaints'], errors='coerce').fillna(0).astype(int)\n",
    "\n",
    "# Filter for actual complaints (non-zero)\n",
    "df_complaints = df[df['number_of_open_complaints'] > 0]\n",
    "\n",
    "# Group by policy type and month, count complaints\n",
    "complaints_summary = df_complaints.groupby(['policy_type', 'month'])['number_of_open_complaints'].count().reset_index()\n",
    "\n",
    "# Rename column for clarity\n",
    "complaints_summary.rename(columns={'number_of_open_complaints': 'complaint_count'}, inplace=True)\n",
    "\n",
    "# Sort for easier readability\n",
    "complaints_summary = complaints_summary.sort_values(by=['policy_type', 'month'])\n",
    "\n",
    "# Display the result\n",
    "print(\"Long Format Table: Complaints by Policy Type and Month\")\n",
    "print(complaints_summary)"
   ]
  }
 ],
 "metadata": {
  "colab": {
   "provenance": []
  },
  "kernelspec": {
   "display_name": "Python 3 (ipykernel)",
   "language": "python",
   "name": "python3"
  },
  "language_info": {
   "codemirror_mode": {
    "name": "ipython",
    "version": 3
   },
   "file_extension": ".py",
   "mimetype": "text/x-python",
   "name": "python",
   "nbconvert_exporter": "python",
   "pygments_lexer": "ipython3",
   "version": "3.13.3"
  }
 },
 "nbformat": 4,
 "nbformat_minor": 5
}
