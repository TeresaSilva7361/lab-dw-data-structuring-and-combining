{
 "cells": [
  {
   "cell_type": "code",
   "execution_count": 1,
   "id": "5711c883-4ce9-4539-88e1-9da26c5f5f58",
   "metadata": {},
   "outputs": [
    {
     "data": {
      "text/html": [
       "\n",
       "        <iframe\n",
       "            width=\"100%\"\n",
       "            height=\"650\"\n",
       "            src=\"http://127.0.0.1:8050/\"\n",
       "            frameborder=\"0\"\n",
       "            allowfullscreen\n",
       "            \n",
       "        ></iframe>\n",
       "        "
      ],
      "text/plain": [
       "<IPython.lib.display.IFrame at 0x1c8cefe9a90>"
      ]
     },
     "metadata": {},
     "output_type": "display_data"
    }
   ],
   "source": [
    "import dash\n",
    "from dash import html, dcc\n",
    "import pandas as pd\n",
    "import plotly.express as px\n",
    "\n",
    "# Load and prepare data\n",
    "url = \"https://raw.githubusercontent.com/data-bootcamp-v4/data/main/marketing_customer_analysis_clean.csv\"\n",
    "df = pd.read_csv(url)\n",
    "df.columns = [col.lower().replace(' ', '_') for col in df.columns]\n",
    "df['effective_to_date'] = pd.to_datetime(df['effective_to_date'], errors='coerce')\n",
    "df['month'] = df['effective_to_date'].dt.month_name()\n",
    "df['number_of_open_complaints'] = pd.to_numeric(df['number_of_open_complaints'], errors='coerce').fillna(0).astype(int)\n",
    "\n",
    "# Filter for complaints\n",
    "complaints = df[df['number_of_open_complaints'] > 0]\n",
    "complaints_by_policy_month = complaints.groupby(['policy_type', 'month'])['number_of_open_complaints'].count().reset_index()\n",
    "complaints_by_policy_month.rename(columns={'number_of_open_complaints': 'complaint_count'}, inplace=True)\n",
    "\n",
    "# Create bar chart\n",
    "fig = px.bar(\n",
    "    complaints_by_policy_month,\n",
    "    x='month',\n",
    "    y='complaint_count',\n",
    "    color='policy_type',\n",
    "    barmode='group',\n",
    "    title='Number of Complaints by Policy Type and Month'\n",
    ")\n",
    "\n",
    "# Build app layout\n",
    "app = dash.Dash(__name__)\n",
    "app.layout = html.Div([\n",
    "    html.H1(\"Customer Complaints Dashboard\"),\n",
    "    dcc.Graph(figure=fig)\n",
    "])\n",
    "\n",
    "if __name__ == '__main__':\n",
    "    app.run(debug=True)"
   ]
  }
 ],
 "metadata": {
  "kernelspec": {
   "display_name": "Python 3 (ipykernel)",
   "language": "python",
   "name": "python3"
  },
  "language_info": {
   "codemirror_mode": {
    "name": "ipython",
    "version": 3
   },
   "file_extension": ".py",
   "mimetype": "text/x-python",
   "name": "python",
   "nbconvert_exporter": "python",
   "pygments_lexer": "ipython3",
   "version": "3.13.3"
  }
 },
 "nbformat": 4,
 "nbformat_minor": 5
}
